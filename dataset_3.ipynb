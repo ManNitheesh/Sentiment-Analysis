{
  "cells": [
    {
      "cell_type": "code",
      "execution_count": null,
      "id": "c7f6795b",
      "metadata": {
        "id": "c7f6795b"
      },
      "outputs": [],
      "source": [
        "file_path = r'C:\\Users\\Z004R6UN\\Downloads\\archive (3)\\Dataset-SA.csv'"
      ]
    },
    {
      "cell_type": "code",
      "execution_count": null,
      "id": "3a37e5c6",
      "metadata": {
        "id": "3a37e5c6"
      },
      "outputs": [],
      "source": [
        "import pandas as pd\n",
        "import matplotlib.pyplot as plt\n",
        "from wordcloud import WordCloud\n",
        "import seaborn as sns"
      ]
    },
    {
      "cell_type": "code",
      "execution_count": null,
      "id": "416638de",
      "metadata": {
        "id": "416638de"
      },
      "outputs": [],
      "source": [
        "from sklearn.feature_extraction.text import TfidfVectorizer"
      ]
    },
    {
      "cell_type": "code",
      "execution_count": null,
      "id": "16f6f3b7",
      "metadata": {
        "id": "16f6f3b7"
      },
      "outputs": [],
      "source": []
    },
    {
      "cell_type": "code",
      "execution_count": null,
      "id": "3e73c079",
      "metadata": {
        "id": "3e73c079"
      },
      "outputs": [],
      "source": [
        "data = pd.read_csv(file_path)"
      ]
    },
    {
      "cell_type": "code",
      "execution_count": null,
      "id": "a323db38",
      "metadata": {
        "id": "a323db38",
        "outputId": "58f89273-2d9e-4464-bb3c-59e11db8ea46"
      },
      "outputs": [
        {
          "data": {
            "text/html": [
              "<div>\n",
              "<style scoped>\n",
              "    .dataframe tbody tr th:only-of-type {\n",
              "        vertical-align: middle;\n",
              "    }\n",
              "\n",
              "    .dataframe tbody tr th {\n",
              "        vertical-align: top;\n",
              "    }\n",
              "\n",
              "    .dataframe thead th {\n",
              "        text-align: right;\n",
              "    }\n",
              "</style>\n",
              "<table border=\"1\" class=\"dataframe\">\n",
              "  <thead>\n",
              "    <tr style=\"text-align: right;\">\n",
              "      <th></th>\n",
              "      <th>product_name</th>\n",
              "      <th>product_price</th>\n",
              "      <th>Rate</th>\n",
              "      <th>Review</th>\n",
              "      <th>Summary</th>\n",
              "      <th>Sentiment</th>\n",
              "    </tr>\n",
              "  </thead>\n",
              "  <tbody>\n",
              "    <tr>\n",
              "      <th>0</th>\n",
              "      <td>Candes 12 L Room/Personal Air Cooler??????(Whi...</td>\n",
              "      <td>3999</td>\n",
              "      <td>5</td>\n",
              "      <td>super!</td>\n",
              "      <td>great cooler excellent air flow and for this p...</td>\n",
              "      <td>positive</td>\n",
              "    </tr>\n",
              "    <tr>\n",
              "      <th>1</th>\n",
              "      <td>Candes 12 L Room/Personal Air Cooler??????(Whi...</td>\n",
              "      <td>3999</td>\n",
              "      <td>5</td>\n",
              "      <td>awesome</td>\n",
              "      <td>best budget 2 fit cooler nice cooling</td>\n",
              "      <td>positive</td>\n",
              "    </tr>\n",
              "    <tr>\n",
              "      <th>2</th>\n",
              "      <td>Candes 12 L Room/Personal Air Cooler??????(Whi...</td>\n",
              "      <td>3999</td>\n",
              "      <td>3</td>\n",
              "      <td>fair</td>\n",
              "      <td>the quality is good but the power of air is de...</td>\n",
              "      <td>positive</td>\n",
              "    </tr>\n",
              "    <tr>\n",
              "      <th>3</th>\n",
              "      <td>Candes 12 L Room/Personal Air Cooler??????(Whi...</td>\n",
              "      <td>3999</td>\n",
              "      <td>1</td>\n",
              "      <td>useless product</td>\n",
              "      <td>very bad product its a only a fan</td>\n",
              "      <td>negative</td>\n",
              "    </tr>\n",
              "    <tr>\n",
              "      <th>4</th>\n",
              "      <td>Candes 12 L Room/Personal Air Cooler??????(Whi...</td>\n",
              "      <td>3999</td>\n",
              "      <td>3</td>\n",
              "      <td>fair</td>\n",
              "      <td>ok ok product</td>\n",
              "      <td>neutral</td>\n",
              "    </tr>\n",
              "    <tr>\n",
              "      <th>...</th>\n",
              "      <td>...</td>\n",
              "      <td>...</td>\n",
              "      <td>...</td>\n",
              "      <td>...</td>\n",
              "      <td>...</td>\n",
              "      <td>...</td>\n",
              "    </tr>\n",
              "    <tr>\n",
              "      <th>205047</th>\n",
              "      <td>cello Pack of 18 Opalware Cello Dazzle Lush Fi...</td>\n",
              "      <td>1299</td>\n",
              "      <td>5</td>\n",
              "      <td>must buy!</td>\n",
              "      <td>good product</td>\n",
              "      <td>positive</td>\n",
              "    </tr>\n",
              "    <tr>\n",
              "      <th>205048</th>\n",
              "      <td>cello Pack of 18 Opalware Cello Dazzle Lush Fi...</td>\n",
              "      <td>1299</td>\n",
              "      <td>5</td>\n",
              "      <td>super!</td>\n",
              "      <td>nice</td>\n",
              "      <td>positive</td>\n",
              "    </tr>\n",
              "    <tr>\n",
              "      <th>205049</th>\n",
              "      <td>cello Pack of 18 Opalware Cello Dazzle Lush Fi...</td>\n",
              "      <td>1299</td>\n",
              "      <td>3</td>\n",
              "      <td>nice</td>\n",
              "      <td>very nice and fast delivery</td>\n",
              "      <td>positive</td>\n",
              "    </tr>\n",
              "    <tr>\n",
              "      <th>205050</th>\n",
              "      <td>cello Pack of 18 Opalware Cello Dazzle Lush Fi...</td>\n",
              "      <td>1299</td>\n",
              "      <td>5</td>\n",
              "      <td>just wow!</td>\n",
              "      <td>awesome product</td>\n",
              "      <td>positive</td>\n",
              "    </tr>\n",
              "    <tr>\n",
              "      <th>205051</th>\n",
              "      <td>cello Pack of 18 Opalware Cello Dazzle Lush Fi...</td>\n",
              "      <td>1299</td>\n",
              "      <td>4</td>\n",
              "      <td>value-for-money</td>\n",
              "      <td>very good but mixing bowl not included is one ...</td>\n",
              "      <td>neutral</td>\n",
              "    </tr>\n",
              "  </tbody>\n",
              "</table>\n",
              "<p>205052 rows × 6 columns</p>\n",
              "</div>"
            ],
            "text/plain": [
              "                                             product_name product_price Rate  \\\n",
              "0       Candes 12 L Room/Personal Air Cooler??????(Whi...          3999    5   \n",
              "1       Candes 12 L Room/Personal Air Cooler??????(Whi...          3999    5   \n",
              "2       Candes 12 L Room/Personal Air Cooler??????(Whi...          3999    3   \n",
              "3       Candes 12 L Room/Personal Air Cooler??????(Whi...          3999    1   \n",
              "4       Candes 12 L Room/Personal Air Cooler??????(Whi...          3999    3   \n",
              "...                                                   ...           ...  ...   \n",
              "205047  cello Pack of 18 Opalware Cello Dazzle Lush Fi...          1299    5   \n",
              "205048  cello Pack of 18 Opalware Cello Dazzle Lush Fi...          1299    5   \n",
              "205049  cello Pack of 18 Opalware Cello Dazzle Lush Fi...          1299    3   \n",
              "205050  cello Pack of 18 Opalware Cello Dazzle Lush Fi...          1299    5   \n",
              "205051  cello Pack of 18 Opalware Cello Dazzle Lush Fi...          1299    4   \n",
              "\n",
              "                 Review                                            Summary  \\\n",
              "0                super!  great cooler excellent air flow and for this p...   \n",
              "1               awesome              best budget 2 fit cooler nice cooling   \n",
              "2                  fair  the quality is good but the power of air is de...   \n",
              "3       useless product                  very bad product its a only a fan   \n",
              "4                  fair                                      ok ok product   \n",
              "...                 ...                                                ...   \n",
              "205047        must buy!                                       good product   \n",
              "205048           super!                                               nice   \n",
              "205049             nice                        very nice and fast delivery   \n",
              "205050        just wow!                                    awesome product   \n",
              "205051  value-for-money  very good but mixing bowl not included is one ...   \n",
              "\n",
              "       Sentiment  \n",
              "0       positive  \n",
              "1       positive  \n",
              "2       positive  \n",
              "3       negative  \n",
              "4        neutral  \n",
              "...          ...  \n",
              "205047  positive  \n",
              "205048  positive  \n",
              "205049  positive  \n",
              "205050  positive  \n",
              "205051   neutral  \n",
              "\n",
              "[205052 rows x 6 columns]"
            ]
          },
          "execution_count": 5,
          "metadata": {},
          "output_type": "execute_result"
        }
      ],
      "source": [
        "data"
      ]
    },
    {
      "cell_type": "code",
      "execution_count": null,
      "id": "ed444282",
      "metadata": {
        "id": "ed444282"
      },
      "outputs": [],
      "source": [
        "numeric_values = data[column].apply(pd.to_numeric, errors='coerce').dropna()\n"
      ]
    },
    {
      "cell_type": "code",
      "execution_count": null,
      "id": "2aeab760",
      "metadata": {
        "id": "2aeab760"
      },
      "outputs": [],
      "source": [
        "column = 'product_price'"
      ]
    },
    {
      "cell_type": "code",
      "execution_count": null,
      "id": "d10e2583",
      "metadata": {
        "id": "d10e2583",
        "outputId": "012fba4c-280e-4774-f54b-f75b61cb2c25"
      },
      "outputs": [
        {
          "name": "stderr",
          "output_type": "stream",
          "text": [
            "D:\\anaconda\\envs\\python37\\lib\\site-packages\\IPython\\core\\pylabtools.py:151: UserWarning: Glyph 131 (\\x83) missing from current font.\n",
            "  fig.canvas.print_figure(bytes_io, **kw)\n"
          ]
        },
        {
          "data": {
            "image/png": "[encoded data removed]",
            "text/plain": [
              "<Figure size 640x480 with 1 Axes>"
            ]
          },
          "metadata": {},
          "output_type": "display_data"
        }
      ],
      "source": [
        "plt.hist(data[column], bins=30, color='skyblue', alpha=0.7)\n",
        "plt.title('Histogram of {}'.format(column))\n",
        "plt.xlabel(column)\n",
        "plt.ylabel('Frequency')\n",
        "plt.show()"
      ]
    },
    {
      "cell_type": "code",
      "execution_count": null,
      "id": "b91d0179",
      "metadata": {
        "id": "b91d0179",
        "outputId": "8967327b-2702-46e5-c375-3d21590a8f32"
      },
      "outputs": [
        {
          "data": {
            "image/png": "[encoded data removed]",
            "text/plain": [
              "<Figure size 640x480 with 1 Axes>"
            ]
          },
          "metadata": {},
          "output_type": "display_data"
        }
      ],
      "source": [
        "plt.hist(data[column], bins=30, color='skyblue', alpha=0.5)\n",
        "plt.title('Histogram of {}'.format(column))\n",
        "plt.xlabel(column)\n",
        "plt.ylabel('Frequency')\n",
        "plt.show()"
      ]
    },
    {
      "cell_type": "code",
      "execution_count": null,
      "id": "c5715c7e",
      "metadata": {
        "id": "c5715c7e"
      },
      "outputs": [],
      "source": [
        "numeric_values = data[column].apply(pd.to_numeric, errors='coerce').dropna()\n",
        "\n"
      ]
    },
    {
      "cell_type": "code",
      "execution_count": null,
      "id": "7fa4aa15",
      "metadata": {
        "id": "7fa4aa15",
        "outputId": "55a39241-be27-4240-8aab-2f7d4c44dcd0"
      },
      "outputs": [
        {
          "data": {
            "text/plain": [
              "0         5.0\n",
              "1         5.0\n",
              "2         3.0\n",
              "3         1.0\n",
              "4         3.0\n",
              "         ... \n",
              "205047    5.0\n",
              "205048    5.0\n",
              "205049    3.0\n",
              "205050    5.0\n",
              "205051    4.0\n",
              "Name: Rate, Length: 205049, dtype: float64"
            ]
          },
          "execution_count": 34,
          "metadata": {},
          "output_type": "execute_result"
        }
      ],
      "source": [
        "numeric_values"
      ]
    },
    {
      "cell_type": "code",
      "execution_count": null,
      "id": "3f4d8281",
      "metadata": {
        "id": "3f4d8281"
      },
      "outputs": [],
      "source": [
        "unique_values = numeric_values.nunique()\n"
      ]
    },
    {
      "cell_type": "code",
      "execution_count": null,
      "id": "20393014",
      "metadata": {
        "id": "20393014",
        "outputId": "cf196cce-9666-4f94-8aeb-1d06bff4274a"
      },
      "outputs": [
        {
          "data": {
            "text/plain": [
              "5"
            ]
          },
          "execution_count": 36,
          "metadata": {},
          "output_type": "execute_result"
        }
      ],
      "source": [
        "unique_values"
      ]
    },
    {
      "cell_type": "code",
      "execution_count": null,
      "id": "fafb3be0",
      "metadata": {
        "id": "fafb3be0",
        "outputId": "825deee7-5050-41ad-9a07-de48ede13590"
      },
      "outputs": [
        {
          "data": {
            "image/png": "[encoded data removed]",
            "text/plain": [
              "<Figure size 500x300 with 1 Axes>"
            ]
          },
          "metadata": {},
          "output_type": "display_data"
        }
      ],
      "source": [
        "plt.figure(figsize=(5, 3))\n",
        "sns.countplot(numeric_values, palette='Blues_r')\n",
        "plt.title('Count of Unique Values in {}'.format(column))\n",
        "plt.xlabel(column)\n",
        "plt.ylabel('Count')\n",
        "plt.xticks(rotation=45)\n",
        "plt.show()"
      ]
    },
    {
      "cell_type": "code",
      "execution_count": null,
      "id": "b2ddad08",
      "metadata": {
        "id": "b2ddad08"
      },
      "outputs": [],
      "source": [
        "sentiment_mapping = {\n",
        "    'positive': 1,\n",
        "    'neg': 0,\n",
        "    'neutral': 2,\n",
        "    'negative': 0  # Add mapping for 'negative' sentiment label\n",
        "}"
      ]
    },
    {
      "cell_type": "code",
      "execution_count": null,
      "id": "103799b1",
      "metadata": {
        "id": "103799b1"
      },
      "outputs": [],
      "source": [
        "data['Sentiment_Numeric'] = data['Sentiment'].map(sentiment_mapping)\n"
      ]
    },
    {
      "cell_type": "code",
      "execution_count": null,
      "id": "64dd6d39",
      "metadata": {
        "id": "64dd6d39",
        "outputId": "fcb50a13-c3ea-4b9b-bad3-9b1fcb91e364"
      },
      "outputs": [
        {
          "data": {
            "text/html": [
              "<div>\n",
              "<style scoped>\n",
              "    .dataframe tbody tr th:only-of-type {\n",
              "        vertical-align: middle;\n",
              "    }\n",
              "\n",
              "    .dataframe tbody tr th {\n",
              "        vertical-align: top;\n",
              "    }\n",
              "\n",
              "    .dataframe thead th {\n",
              "        text-align: right;\n",
              "    }\n",
              "</style>\n",
              "<table border=\"1\" class=\"dataframe\">\n",
              "  <thead>\n",
              "    <tr style=\"text-align: right;\">\n",
              "      <th></th>\n",
              "      <th>product_name</th>\n",
              "      <th>product_price</th>\n",
              "      <th>Rate</th>\n",
              "      <th>Review</th>\n",
              "      <th>Summary</th>\n",
              "      <th>Sentiment</th>\n",
              "      <th>Sentiment_Numeric</th>\n",
              "    </tr>\n",
              "  </thead>\n",
              "  <tbody>\n",
              "    <tr>\n",
              "      <th>0</th>\n",
              "      <td>Candes 12 L Room/Personal Air Cooler??????(Whi...</td>\n",
              "      <td>3999</td>\n",
              "      <td>5</td>\n",
              "      <td>super!</td>\n",
              "      <td>great cooler excellent air flow and for this p...</td>\n",
              "      <td>positive</td>\n",
              "      <td>1</td>\n",
              "    </tr>\n",
              "    <tr>\n",
              "      <th>1</th>\n",
              "      <td>Candes 12 L Room/Personal Air Cooler??????(Whi...</td>\n",
              "      <td>3999</td>\n",
              "      <td>5</td>\n",
              "      <td>awesome</td>\n",
              "      <td>best budget 2 fit cooler nice cooling</td>\n",
              "      <td>positive</td>\n",
              "      <td>1</td>\n",
              "    </tr>\n",
              "    <tr>\n",
              "      <th>2</th>\n",
              "      <td>Candes 12 L Room/Personal Air Cooler??????(Whi...</td>\n",
              "      <td>3999</td>\n",
              "      <td>3</td>\n",
              "      <td>fair</td>\n",
              "      <td>the quality is good but the power of air is de...</td>\n",
              "      <td>positive</td>\n",
              "      <td>1</td>\n",
              "    </tr>\n",
              "    <tr>\n",
              "      <th>3</th>\n",
              "      <td>Candes 12 L Room/Personal Air Cooler??????(Whi...</td>\n",
              "      <td>3999</td>\n",
              "      <td>1</td>\n",
              "      <td>useless product</td>\n",
              "      <td>very bad product its a only a fan</td>\n",
              "      <td>negative</td>\n",
              "      <td>0</td>\n",
              "    </tr>\n",
              "    <tr>\n",
              "      <th>4</th>\n",
              "      <td>Candes 12 L Room/Personal Air Cooler??????(Whi...</td>\n",
              "      <td>3999</td>\n",
              "      <td>3</td>\n",
              "      <td>fair</td>\n",
              "      <td>ok ok product</td>\n",
              "      <td>neutral</td>\n",
              "      <td>2</td>\n",
              "    </tr>\n",
              "    <tr>\n",
              "      <th>...</th>\n",
              "      <td>...</td>\n",
              "      <td>...</td>\n",
              "      <td>...</td>\n",
              "      <td>...</td>\n",
              "      <td>...</td>\n",
              "      <td>...</td>\n",
              "      <td>...</td>\n",
              "    </tr>\n",
              "    <tr>\n",
              "      <th>205047</th>\n",
              "      <td>cello Pack of 18 Opalware Cello Dazzle Lush Fi...</td>\n",
              "      <td>1299</td>\n",
              "      <td>5</td>\n",
              "      <td>must buy!</td>\n",
              "      <td>good product</td>\n",
              "      <td>positive</td>\n",
              "      <td>1</td>\n",
              "    </tr>\n",
              "    <tr>\n",
              "      <th>205048</th>\n",
              "      <td>cello Pack of 18 Opalware Cello Dazzle Lush Fi...</td>\n",
              "      <td>1299</td>\n",
              "      <td>5</td>\n",
              "      <td>super!</td>\n",
              "      <td>nice</td>\n",
              "      <td>positive</td>\n",
              "      <td>1</td>\n",
              "    </tr>\n",
              "    <tr>\n",
              "      <th>205049</th>\n",
              "      <td>cello Pack of 18 Opalware Cello Dazzle Lush Fi...</td>\n",
              "      <td>1299</td>\n",
              "      <td>3</td>\n",
              "      <td>nice</td>\n",
              "      <td>very nice and fast delivery</td>\n",
              "      <td>positive</td>\n",
              "      <td>1</td>\n",
              "    </tr>\n",
              "    <tr>\n",
              "      <th>205050</th>\n",
              "      <td>cello Pack of 18 Opalware Cello Dazzle Lush Fi...</td>\n",
              "      <td>1299</td>\n",
              "      <td>5</td>\n",
              "      <td>just wow!</td>\n",
              "      <td>awesome product</td>\n",
              "      <td>positive</td>\n",
              "      <td>1</td>\n",
              "    </tr>\n",
              "    <tr>\n",
              "      <th>205051</th>\n",
              "      <td>cello Pack of 18 Opalware Cello Dazzle Lush Fi...</td>\n",
              "      <td>1299</td>\n",
              "      <td>4</td>\n",
              "      <td>value-for-money</td>\n",
              "      <td>very good but mixing bowl not included is one ...</td>\n",
              "      <td>neutral</td>\n",
              "      <td>2</td>\n",
              "    </tr>\n",
              "  </tbody>\n",
              "</table>\n",
              "<p>205052 rows × 7 columns</p>\n",
              "</div>"
            ],
            "text/plain": [
              "                                             product_name product_price Rate  \\\n",
              "0       Candes 12 L Room/Personal Air Cooler??????(Whi...          3999    5   \n",
              "1       Candes 12 L Room/Personal Air Cooler??????(Whi...          3999    5   \n",
              "2       Candes 12 L Room/Personal Air Cooler??????(Whi...          3999    3   \n",
              "3       Candes 12 L Room/Personal Air Cooler??????(Whi...          3999    1   \n",
              "4       Candes 12 L Room/Personal Air Cooler??????(Whi...          3999    3   \n",
              "...                                                   ...           ...  ...   \n",
              "205047  cello Pack of 18 Opalware Cello Dazzle Lush Fi...          1299    5   \n",
              "205048  cello Pack of 18 Opalware Cello Dazzle Lush Fi...          1299    5   \n",
              "205049  cello Pack of 18 Opalware Cello Dazzle Lush Fi...          1299    3   \n",
              "205050  cello Pack of 18 Opalware Cello Dazzle Lush Fi...          1299    5   \n",
              "205051  cello Pack of 18 Opalware Cello Dazzle Lush Fi...          1299    4   \n",
              "\n",
              "                 Review                                            Summary  \\\n",
              "0                super!  great cooler excellent air flow and for this p...   \n",
              "1               awesome              best budget 2 fit cooler nice cooling   \n",
              "2                  fair  the quality is good but the power of air is de...   \n",
              "3       useless product                  very bad product its a only a fan   \n",
              "4                  fair                                      ok ok product   \n",
              "...                 ...                                                ...   \n",
              "205047        must buy!                                       good product   \n",
              "205048           super!                                               nice   \n",
              "205049             nice                        very nice and fast delivery   \n",
              "205050        just wow!                                    awesome product   \n",
              "205051  value-for-money  very good but mixing bowl not included is one ...   \n",
              "\n",
              "       Sentiment  Sentiment_Numeric  \n",
              "0       positive                  1  \n",
              "1       positive                  1  \n",
              "2       positive                  1  \n",
              "3       negative                  0  \n",
              "4        neutral                  2  \n",
              "...          ...                ...  \n",
              "205047  positive                  1  \n",
              "205048  positive                  1  \n",
              "205049  positive                  1  \n",
              "205050  positive                  1  \n",
              "205051   neutral                  2  \n",
              "\n",
              "[205052 rows x 7 columns]"
            ]
          },
          "execution_count": 48,
          "metadata": {},
          "output_type": "execute_result"
        }
      ],
      "source": [
        "data"
      ]
    },
    {
      "cell_type": "code",
      "execution_count": null,
      "id": "69d86e31",
      "metadata": {
        "id": "69d86e31"
      },
      "outputs": [],
      "source": [
        "from sklearn.model_selection import train_test_split\n",
        "from sklearn.feature_extraction.text import TfidfVectorizer\n",
        "from sklearn.linear_model import LogisticRegression\n",
        "from sklearn.metrics import accuracy_score, classification_report\n",
        "from sklearn.feature_extraction.text import CountVectorizer, TfidfTransformer\n",
        "from sklearn.metrics import classification_report, precision_recall_fscore_support\n",
        "from sklearn.metrics import confusion_matrix\n"
      ]
    },
    {
      "cell_type": "code",
      "execution_count": null,
      "id": "cc9021b4",
      "metadata": {
        "id": "cc9021b4",
        "outputId": "a9bd5463-b9e1-40b5-fef3-df5ee0a7cfa2"
      },
      "outputs": [
        {
          "name": "stdout",
          "output_type": "stream",
          "text": [
            "Requirement already satisfied: scikit-learn in d:\\anaconda\\envs\\python37\\lib\\site-packages (1.0.2)Note: you may need to restart the kernel to use updated packages.\n",
            "\n",
            "Requirement already satisfied: numpy>=1.14.6 in d:\\anaconda\\envs\\python37\\lib\\site-packages (from scikit-learn) (1.21.6)\n",
            "Requirement already satisfied: threadpoolctl>=2.0.0 in d:\\anaconda\\envs\\python37\\lib\\site-packages (from scikit-learn) (3.1.0)\n",
            "Requirement already satisfied: joblib>=0.11 in d:\\anaconda\\envs\\python37\\lib\\site-packages (from scikit-learn) (1.2.0)\n",
            "Requirement already satisfied: scipy>=1.1.0 in d:\\anaconda\\envs\\python37\\lib\\site-packages (from scikit-learn) (1.7.3)\n"
          ]
        }
      ],
      "source": [
        "pip install scikit-learn\n"
      ]
    },
    {
      "cell_type": "code",
      "execution_count": null,
      "id": "01ff2a26",
      "metadata": {
        "id": "01ff2a26"
      },
      "outputs": [],
      "source": [
        "data['Review'].fillna('', inplace=True)\n"
      ]
    },
    {
      "cell_type": "code",
      "execution_count": null,
      "id": "6efe310d",
      "metadata": {
        "id": "6efe310d"
      },
      "outputs": [],
      "source": [
        "X_train, X_test, y_train, y_test = train_test_split(data['Review'], data['Sentiment_Numeric'], test_size=0.2, random_state=42)\n"
      ]
    },
    {
      "cell_type": "code",
      "execution_count": null,
      "id": "e7cbdb0e",
      "metadata": {
        "id": "e7cbdb0e"
      },
      "outputs": [],
      "source": [
        "count_vectorizer = CountVectorizer()\n"
      ]
    },
    {
      "cell_type": "code",
      "execution_count": null,
      "id": "e9c2586f",
      "metadata": {
        "id": "e9c2586f"
      },
      "outputs": [],
      "source": [
        "X_train_counts = count_vectorizer.fit_transform(X_train)\n"
      ]
    },
    {
      "cell_type": "code",
      "execution_count": null,
      "id": "2416b59d",
      "metadata": {
        "id": "2416b59d"
      },
      "outputs": [],
      "source": [
        "X_test_counts = count_vectorizer.transform(X_test)\n"
      ]
    },
    {
      "cell_type": "code",
      "execution_count": null,
      "id": "c380ea04",
      "metadata": {
        "id": "c380ea04"
      },
      "outputs": [],
      "source": [
        "tfidf_transformer = TfidfTransformer()\n"
      ]
    },
    {
      "cell_type": "code",
      "execution_count": null,
      "id": "eb331fdc",
      "metadata": {
        "id": "eb331fdc"
      },
      "outputs": [],
      "source": [
        "X_train_tfidf = tfidf_transformer.fit_transform(X_train_counts)\n"
      ]
    },
    {
      "cell_type": "code",
      "execution_count": null,
      "id": "2f887234",
      "metadata": {
        "id": "2f887234"
      },
      "outputs": [],
      "source": [
        "X_test_tfidf = tfidf_transformer.transform(X_test_counts)\n"
      ]
    },
    {
      "cell_type": "code",
      "execution_count": null,
      "id": "9da51310",
      "metadata": {
        "id": "9da51310"
      },
      "outputs": [],
      "source": [
        "lr_model = LogisticRegression()\n"
      ]
    },
    {
      "cell_type": "code",
      "execution_count": null,
      "id": "6a313bd8",
      "metadata": {
        "id": "6a313bd8",
        "outputId": "d8020026-ff2d-4a6a-bc96-9f72472607e2"
      },
      "outputs": [
        {
          "name": "stderr",
          "output_type": "stream",
          "text": [
            "D:\\anaconda\\envs\\python37\\lib\\site-packages\\sklearn\\linear_model\\_logistic.py:818: ConvergenceWarning: lbfgs failed to converge (status=1):\n",
            "STOP: TOTAL NO. of ITERATIONS REACHED LIMIT.\n",
            "\n",
            "Increase the number of iterations (max_iter) or scale the data as shown in:\n",
            "    https://scikit-learn.org/stable/modules/preprocessing.html\n",
            "Please also refer to the documentation for alternative solver options:\n",
            "    https://scikit-learn.org/stable/modules/linear_model.html#logistic-regression\n",
            "  extra_warning_msg=_LOGISTIC_SOLVER_CONVERGENCE_MSG,\n"
          ]
        },
        {
          "data": {
            "text/plain": [
              "LogisticRegression()"
            ]
          },
          "execution_count": 72,
          "metadata": {},
          "output_type": "execute_result"
        }
      ],
      "source": [
        "lr_model.fit(X_train_tfidf, y_train)\n"
      ]
    },
    {
      "cell_type": "code",
      "execution_count": null,
      "id": "4b892637",
      "metadata": {
        "id": "4b892637"
      },
      "outputs": [],
      "source": [
        "y_pred = lr_model.predict(X_test_tfidf)\n"
      ]
    },
    {
      "cell_type": "code",
      "execution_count": null,
      "id": "891da42d",
      "metadata": {
        "id": "891da42d",
        "outputId": "ed1dcfce-7450-4dd3-972b-475d9fbc5f66"
      },
      "outputs": [
        {
          "name": "stdout",
          "output_type": "stream",
          "text": [
            "Accuracy: 0.8998561361585916\n"
          ]
        }
      ],
      "source": [
        "accuracy = accuracy_score(y_test, y_pred)\n",
        "print('Accuracy:', accuracy)"
      ]
    },
    {
      "cell_type": "code",
      "execution_count": null,
      "id": "a005010b",
      "metadata": {
        "id": "a005010b",
        "outputId": "df21eb86-7e67-4182-8f0e-4d155ed17fcf"
      },
      "outputs": [
        {
          "name": "stderr",
          "output_type": "stream",
          "text": [
            "D:\\anaconda\\envs\\python37\\lib\\site-packages\\sklearn\\metrics\\_classification.py:1318: UndefinedMetricWarning: Precision and F-score are ill-defined and being set to 0.0 in labels with no predicted samples. Use `zero_division` parameter to control this behavior.\n",
            "  _warn_prf(average, modifier, msg_start, len(result))\n"
          ]
        }
      ],
      "source": [
        "precision, recall, f1_score, _ = precision_recall_fscore_support(y_test, y_pred, average='weighted')\n"
      ]
    },
    {
      "cell_type": "code",
      "execution_count": null,
      "id": "4e7015dd",
      "metadata": {
        "id": "4e7015dd"
      },
      "outputs": [],
      "source": [
        "labels = ['Precision', 'Recall', 'F1-Score']\n",
        "values = [precision, recall, f1_score]\n"
      ]
    },
    {
      "cell_type": "code",
      "execution_count": null,
      "id": "47b9ce0e",
      "metadata": {
        "id": "47b9ce0e",
        "outputId": "13d27945-2923-4ca6-a7b5-2e12817d0ca8"
      },
      "outputs": [
        {
          "data": {
            "image/png": "[encoded data removed]",
            "text/plain": [
              "<Figure size 640x480 with 1 Axes>"
            ]
          },
          "metadata": {},
          "output_type": "display_data"
        }
      ],
      "source": [
        "plt.bar(labels, values)\n",
        "plt.title('Precision, Recall, and F1-Score')\n",
        "plt.xlabel('Metrics')\n",
        "plt.ylabel('Score')\n",
        "plt.show()"
      ]
    },
    {
      "cell_type": "code",
      "execution_count": null,
      "id": "f212eb76",
      "metadata": {
        "id": "f212eb76",
        "outputId": "dfc0d8c1-bc89-4407-b3be-8200f91314cc"
      },
      "outputs": [
        {
          "name": "stdout",
          "output_type": "stream",
          "text": [
            "Precision: 0.8533810583101065\n",
            "Recall: 0.8998561361585916\n",
            "F1-Score: 0.8739598468252503\n"
          ]
        }
      ],
      "source": [
        "print('Precision:', precision)\n",
        "print('Recall:', recall)\n",
        "print('F1-Score:', f1_score)\n",
        "\n"
      ]
    },
    {
      "cell_type": "code",
      "execution_count": null,
      "id": "7e96f15c",
      "metadata": {
        "id": "7e96f15c"
      },
      "outputs": [],
      "source": [
        "cm = confusion_matrix(y_test, y_pred)\n"
      ]
    },
    {
      "cell_type": "code",
      "execution_count": null,
      "id": "b2370cd3",
      "metadata": {
        "id": "b2370cd3"
      },
      "outputs": [],
      "source": [
        "cm_df = pd.DataFrame(cm, index=['Negative', 'Neutral', 'Positive'], columns=['Negative', 'Neutral', 'Positive'])\n"
      ]
    },
    {
      "cell_type": "code",
      "execution_count": null,
      "id": "29426834",
      "metadata": {
        "id": "29426834",
        "outputId": "86427ed6-e8fe-46bf-c147-4f03dc1a3790"
      },
      "outputs": [
        {
          "data": {
            "image/png": "[encoded data removed]",
            "text/plain": [
              "<Figure size 600x400 with 2 Axes>"
            ]
          },
          "metadata": {},
          "output_type": "display_data"
        }
      ],
      "source": [
        "plt.figure(figsize=(6, 4))\n",
        "sns.heatmap(cm_df, annot=True, cmap='Blues', fmt='d')\n",
        "plt.title('Confusion Matrix')\n",
        "plt.xlabel('Predicted Labels')\n",
        "plt.ylabel('True Labels')\n",
        "plt.show()"
      ]
    },
    {
      "cell_type": "code",
      "execution_count": null,
      "id": "ee136509",
      "metadata": {
        "id": "ee136509"
      },
      "outputs": [],
      "source": [
        "from sklearn.naive_bayes import MultinomialNB\n"
      ]
    },
    {
      "cell_type": "code",
      "execution_count": null,
      "id": "66e6dcc5",
      "metadata": {
        "id": "66e6dcc5"
      },
      "outputs": [],
      "source": [
        "X_train, X_test, y_train, y_test = train_test_split(data['Review'], data['Sentiment_Numeric'], test_size=0.2, random_state=42)\n"
      ]
    },
    {
      "cell_type": "code",
      "execution_count": null,
      "id": "22087836",
      "metadata": {
        "id": "22087836"
      },
      "outputs": [],
      "source": [
        "count_vectorizer = CountVectorizer()\n"
      ]
    },
    {
      "cell_type": "code",
      "execution_count": null,
      "id": "888f5ad5",
      "metadata": {
        "id": "888f5ad5"
      },
      "outputs": [],
      "source": [
        "X_train_counts = count_vectorizer.fit_transform(X_train)\n",
        "X_test_counts = count_vectorizer.transform(X_test)"
      ]
    },
    {
      "cell_type": "code",
      "execution_count": null,
      "id": "79e3e1f3",
      "metadata": {
        "id": "79e3e1f3"
      },
      "outputs": [],
      "source": [
        "tfidf_transformer = TfidfTransformer()\n"
      ]
    },
    {
      "cell_type": "code",
      "execution_count": null,
      "id": "68f11eee",
      "metadata": {
        "id": "68f11eee"
      },
      "outputs": [],
      "source": [
        "X_train_tfidf = tfidf_transformer.fit_transform(X_train_counts)\n",
        "X_test_tfidf = tfidf_transformer.transform(X_test_counts)"
      ]
    },
    {
      "cell_type": "code",
      "execution_count": null,
      "id": "0a0694f7",
      "metadata": {
        "id": "0a0694f7"
      },
      "outputs": [],
      "source": [
        "nb_model = MultinomialNB()\n"
      ]
    },
    {
      "cell_type": "code",
      "execution_count": null,
      "id": "421c5b15",
      "metadata": {
        "id": "421c5b15",
        "outputId": "eaf31107-f5bb-48f1-aac3-29d898523565"
      },
      "outputs": [
        {
          "data": {
            "text/plain": [
              "MultinomialNB()"
            ]
          },
          "execution_count": 94,
          "metadata": {},
          "output_type": "execute_result"
        }
      ],
      "source": [
        "nb_model.fit(X_train_tfidf, y_train)\n"
      ]
    },
    {
      "cell_type": "code",
      "execution_count": null,
      "id": "c07a9810",
      "metadata": {
        "id": "c07a9810"
      },
      "outputs": [],
      "source": [
        "y_pred = nb_model.predict(X_test_tfidf)\n"
      ]
    },
    {
      "cell_type": "code",
      "execution_count": null,
      "id": "8b83cd03",
      "metadata": {
        "id": "8b83cd03",
        "outputId": "9a460807-a890-4f7f-de7a-eea63476abfb"
      },
      "outputs": [
        {
          "name": "stdout",
          "output_type": "stream",
          "text": [
            "Accuracy: 0.8965399526956183\n"
          ]
        }
      ],
      "source": [
        "accuracy = accuracy_score(y_test, y_pred)\n",
        "print('Accuracy:', accuracy)"
      ]
    },
    {
      "cell_type": "code",
      "execution_count": null,
      "id": "4c3824aa",
      "metadata": {
        "id": "4c3824aa",
        "outputId": "86175edd-94c4-456c-f0c9-635643c794af"
      },
      "outputs": [
        {
          "name": "stdout",
          "output_type": "stream",
          "text": [
            "              precision    recall  f1-score   support\n",
            "\n",
            "           0       0.85      0.67      0.75      5557\n",
            "           1       0.90      0.99      0.94     33421\n",
            "           2       0.10      0.00      0.00      2033\n",
            "\n",
            "    accuracy                           0.90     41011\n",
            "   macro avg       0.62      0.55      0.56     41011\n",
            "weighted avg       0.86      0.90      0.87     41011\n",
            "\n"
          ]
        }
      ],
      "source": [
        "report = classification_report(y_test, y_pred)\n",
        "print(report)"
      ]
    },
    {
      "cell_type": "code",
      "execution_count": null,
      "id": "74284333",
      "metadata": {
        "id": "74284333"
      },
      "outputs": [],
      "source": [
        "cm = confusion_matrix(y_test, y_pred)\n"
      ]
    },
    {
      "cell_type": "code",
      "execution_count": null,
      "id": "d32a0743",
      "metadata": {
        "id": "d32a0743"
      },
      "outputs": [],
      "source": [
        "cm_df = pd.DataFrame(cm, index=['Negative', 'Neutral', 'Positive'], columns=['Negative', 'Neutral', 'Positive'])\n"
      ]
    },
    {
      "cell_type": "code",
      "execution_count": null,
      "id": "45b538f4",
      "metadata": {
        "id": "45b538f4",
        "outputId": "158c900b-10a8-4f9f-8dc4-8159b26d89a9"
      },
      "outputs": [
        {
          "data": {
            "image/png": "[encoded data removed]",
            "text/plain": [
              "<Figure size 600x400 with 2 Axes>"
            ]
          },
          "metadata": {},
          "output_type": "display_data"
        }
      ],
      "source": [
        "plt.figure(figsize=(6, 4))\n",
        "sns.heatmap(cm_df, annot=True, cmap='Blues', fmt='d')\n",
        "plt.title('Confusion Matrix')\n",
        "plt.xlabel('Predicted Labels')\n",
        "plt.ylabel('True Labels')\n",
        "plt.show()"
      ]
    },
    {
      "cell_type": "code",
      "execution_count": null,
      "id": "9a50d020",
      "metadata": {
        "id": "9a50d020",
        "outputId": "b76ea031-24f1-4576-83ad-d80914374607"
      },
      "outputs": [
        {
          "data": {
            "text/html": [
              "<div>\n",
              "<style scoped>\n",
              "    .dataframe tbody tr th:only-of-type {\n",
              "        vertical-align: middle;\n",
              "    }\n",
              "\n",
              "    .dataframe tbody tr th {\n",
              "        vertical-align: top;\n",
              "    }\n",
              "\n",
              "    .dataframe thead th {\n",
              "        text-align: right;\n",
              "    }\n",
              "</style>\n",
              "<table border=\"1\" class=\"dataframe\">\n",
              "  <thead>\n",
              "    <tr style=\"text-align: right;\">\n",
              "      <th></th>\n",
              "      <th>Negative</th>\n",
              "      <th>Neutral</th>\n",
              "      <th>Positive</th>\n",
              "    </tr>\n",
              "  </thead>\n",
              "  <tbody>\n",
              "    <tr>\n",
              "      <th>Negative</th>\n",
              "      <td>3700</td>\n",
              "      <td>1852</td>\n",
              "      <td>5</td>\n",
              "    </tr>\n",
              "    <tr>\n",
              "      <th>Neutral</th>\n",
              "      <td>327</td>\n",
              "      <td>33064</td>\n",
              "      <td>30</td>\n",
              "    </tr>\n",
              "    <tr>\n",
              "      <th>Positive</th>\n",
              "      <td>346</td>\n",
              "      <td>1683</td>\n",
              "      <td>4</td>\n",
              "    </tr>\n",
              "  </tbody>\n",
              "</table>\n",
              "</div>"
            ],
            "text/plain": [
              "          Negative  Neutral  Positive\n",
              "Negative      3700     1852         5\n",
              "Neutral        327    33064        30\n",
              "Positive       346     1683         4"
            ]
          },
          "execution_count": 101,
          "metadata": {},
          "output_type": "execute_result"
        }
      ],
      "source": [
        "cm_df"
      ]
    },
    {
      "cell_type": "code",
      "execution_count": null,
      "id": "6d6ecc92",
      "metadata": {
        "id": "6d6ecc92"
      },
      "outputs": [],
      "source": []
    },
    {
      "cell_type": "code",
      "execution_count": null,
      "id": "49b7102c",
      "metadata": {
        "id": "49b7102c"
      },
      "outputs": [],
      "source": [
        "$$ SVC MODEL $$ with text feature"
      ]
    },
    {
      "cell_type": "code",
      "execution_count": null,
      "id": "ce933b17",
      "metadata": {
        "id": "ce933b17"
      },
      "outputs": [],
      "source": [
        "from sklearn.svm import SVC\n"
      ]
    },
    {
      "cell_type": "code",
      "execution_count": null,
      "id": "78adb8cb",
      "metadata": {
        "id": "78adb8cb"
      },
      "outputs": [],
      "source": [
        "text_feature = 'Review'  # Replace with your text feature column\n",
        "target = 'Sentiment'  # Replace with your target column\n"
      ]
    },
    {
      "cell_type": "code",
      "execution_count": null,
      "id": "72a9e229",
      "metadata": {
        "id": "72a9e229"
      },
      "outputs": [],
      "source": [
        "X_train, X_test, y_train, y_test = train_test_split(data[text_feature], data[target], test_size=0.2, random_state=42)\n"
      ]
    },
    {
      "cell_type": "code",
      "execution_count": null,
      "id": "f6417c03",
      "metadata": {
        "id": "f6417c03"
      },
      "outputs": [],
      "source": [
        "vectorizer = TfidfVectorizer()\n"
      ]
    },
    {
      "cell_type": "code",
      "execution_count": null,
      "id": "eb05fdbe",
      "metadata": {
        "id": "eb05fdbe"
      },
      "outputs": [],
      "source": [
        "X_train_tfidf = vectorizer.fit_transform(X_train)\n"
      ]
    },
    {
      "cell_type": "code",
      "execution_count": null,
      "id": "aae6f974",
      "metadata": {
        "id": "aae6f974",
        "outputId": "0190502e-7293-4941-8af1-6ba09f1e6af3"
      },
      "outputs": [
        {
          "data": {
            "text/plain": [
              "<164041x1144 sparse matrix of type '<class 'numpy.float64'>'\n",
              "\twith 282863 stored elements in Compressed Sparse Row format>"
            ]
          },
          "execution_count": 150,
          "metadata": {},
          "output_type": "execute_result"
        }
      ],
      "source": [
        "X_train_tfidf"
      ]
    },
    {
      "cell_type": "code",
      "execution_count": null,
      "id": "88da79a7",
      "metadata": {
        "id": "88da79a7"
      },
      "outputs": [],
      "source": [
        "X_test_tfidf = vectorizer.transform(X_test)\n"
      ]
    },
    {
      "cell_type": "code",
      "execution_count": null,
      "id": "ab7bdbd7",
      "metadata": {
        "id": "ab7bdbd7",
        "outputId": "dc0f3bfe-7a1a-4f6c-dd38-effb9d2219ad"
      },
      "outputs": [
        {
          "data": {
            "text/plain": [
              "<41011x1144 sparse matrix of type '<class 'numpy.float64'>'\n",
              "\twith 70736 stored elements in Compressed Sparse Row format>"
            ]
          },
          "execution_count": 152,
          "metadata": {},
          "output_type": "execute_result"
        }
      ],
      "source": [
        "X_test_tfidf"
      ]
    },
    {
      "cell_type": "code",
      "execution_count": null,
      "id": "7393d6d5",
      "metadata": {
        "id": "7393d6d5",
        "outputId": "c65a384e-8fdf-40e0-b493-550a318251d1"
      },
      "outputs": [
        {
          "name": "stdout",
          "output_type": "stream",
          "text": [
            "Training data shape: (164041, 1144)\n",
            "Test data shape: (41011, 1144)\n"
          ]
        }
      ],
      "source": [
        "print(\"Training data shape:\", X_train_tfidf.shape)\n",
        "print(\"Test data shape:\", X_test_tfidf.shape)"
      ]
    },
    {
      "cell_type": "code",
      "execution_count": null,
      "id": "3673fd39",
      "metadata": {
        "id": "3673fd39"
      },
      "outputs": [],
      "source": [
        "svm_model = SVC()\n"
      ]
    },
    {
      "cell_type": "code",
      "execution_count": null,
      "id": "5b8c46cb",
      "metadata": {
        "id": "5b8c46cb",
        "outputId": "6d04ec61-129d-4276-99c8-debc8d5886a0"
      },
      "outputs": [
        {
          "data": {
            "text/plain": [
              "SVC()"
            ]
          },
          "execution_count": 155,
          "metadata": {},
          "output_type": "execute_result"
        }
      ],
      "source": [
        "svm_model.fit(X_train_tfidf, y_train)\n"
      ]
    },
    {
      "cell_type": "code",
      "execution_count": null,
      "id": "14a7c546",
      "metadata": {
        "id": "14a7c546"
      },
      "outputs": [],
      "source": [
        "y_pred = svm_model.predict(X_test_tfidf)\n"
      ]
    },
    {
      "cell_type": "code",
      "execution_count": null,
      "id": "6510cbf8",
      "metadata": {
        "id": "6510cbf8",
        "outputId": "898151f2-9b72-456d-e655-ed3447b9732e"
      },
      "outputs": [
        {
          "name": "stdout",
          "output_type": "stream",
          "text": [
            "Accuracy: 0.8999536709663261\n"
          ]
        }
      ],
      "source": [
        "accuracy = accuracy_score(y_test, y_pred)\n",
        "print('Accuracy:', accuracy)"
      ]
    },
    {
      "cell_type": "code",
      "execution_count": null,
      "id": "2bc2de7b",
      "metadata": {
        "id": "2bc2de7b",
        "outputId": "bb3487d5-3d00-4021-b875-d38e47c1726f"
      },
      "outputs": [
        {
          "name": "stdout",
          "output_type": "stream",
          "text": [
            "              precision    recall  f1-score   support\n",
            "\n",
            "    negative       0.85      0.69      0.76      5557\n",
            "     neutral       0.00      0.00      0.00      2033\n",
            "    positive       0.91      0.99      0.95     33421\n",
            "\n",
            "    accuracy                           0.90     41011\n",
            "   macro avg       0.58      0.56      0.57     41011\n",
            "weighted avg       0.85      0.90      0.87     41011\n",
            "\n"
          ]
        }
      ],
      "source": [
        "report = classification_report(y_test, y_pred)\n",
        "print(report)"
      ]
    },
    {
      "cell_type": "code",
      "execution_count": null,
      "id": "af9d4125",
      "metadata": {
        "id": "af9d4125"
      },
      "outputs": [],
      "source": [
        "cm = confusion_matrix(y_test, y_pred)\n"
      ]
    },
    {
      "cell_type": "code",
      "execution_count": null,
      "id": "0ef7e405",
      "metadata": {
        "id": "0ef7e405",
        "outputId": "ee61b0de-c87e-4528-93ec-a4106dd1006f"
      },
      "outputs": [
        {
          "data": {
            "image/png": "[encoded data removed]",
            "text/plain": [
              "<Figure size 600x400 with 2 Axes>"
            ]
          },
          "metadata": {},
          "output_type": "display_data"
        }
      ],
      "source": [
        "plt.figure(figsize=(6, 4))\n",
        "sns.heatmap(cm, annot=True, cmap='Blues', fmt='d')\n",
        "plt.title('Confusion Matrix')\n",
        "plt.xlabel('Predicted Labels')\n",
        "plt.ylabel('True Labels')\n",
        "plt.show()"
      ]
    },
    {
      "cell_type": "code",
      "execution_count": null,
      "id": "03ebf210",
      "metadata": {
        "id": "03ebf210"
      },
      "outputs": [],
      "source": []
    },
    {
      "cell_type": "code",
      "execution_count": null,
      "id": "3d9e75ed",
      "metadata": {
        "id": "3d9e75ed"
      },
      "outputs": [],
      "source": [
        "$ RANDOM FOREST CLASSIFICATION $ numeric features"
      ]
    },
    {
      "cell_type": "code",
      "execution_count": null,
      "id": "987e53ac",
      "metadata": {
        "id": "987e53ac"
      },
      "outputs": [],
      "source": [
        "from sklearn.ensemble import RandomForestClassifier\n"
      ]
    },
    {
      "cell_type": "code",
      "execution_count": null,
      "id": "4a09832f",
      "metadata": {
        "id": "4a09832f"
      },
      "outputs": [],
      "source": [
        "data = data[pd.to_numeric(data['product_price'], errors='coerce').notnull()]\n",
        "data = data[pd.to_numeric(data['Rate'], errors='coerce').notnull()]"
      ]
    },
    {
      "cell_type": "code",
      "execution_count": null,
      "id": "21a6de06",
      "metadata": {
        "id": "21a6de06"
      },
      "outputs": [],
      "source": [
        "data['product_price'] = data['product_price'].astype(float)  # Replace 'column1' with the appropriate column name\n",
        "data['Rate'] = data['Rate'].astype(float)  # Replace 'column2' with the appropriate column name\n"
      ]
    },
    {
      "cell_type": "code",
      "execution_count": null,
      "id": "b03d128b",
      "metadata": {
        "id": "b03d128b"
      },
      "outputs": [],
      "source": [
        "numeric_columns = ['product_price', 'Rate','Sentiment_Numeric']  # Replace with the actual column names\n",
        "X = data[numeric_columns]"
      ]
    },
    {
      "cell_type": "code",
      "execution_count": null,
      "id": "0ad57a64",
      "metadata": {
        "id": "0ad57a64"
      },
      "outputs": [],
      "source": [
        "target_column = 'Review'  # Replace with the actual target column name\n",
        "y = data[target_column]"
      ]
    },
    {
      "cell_type": "code",
      "execution_count": null,
      "id": "1902156c",
      "metadata": {
        "id": "1902156c"
      },
      "outputs": [],
      "source": [
        "X_train, X_test, y_train, y_test = train_test_split(X, y, test_size=0.2, random_state=42)\n"
      ]
    },
    {
      "cell_type": "code",
      "execution_count": null,
      "id": "160b6dca",
      "metadata": {
        "id": "160b6dca"
      },
      "outputs": [],
      "source": [
        "rf_classifier = RandomForestClassifier(n_estimators=100, random_state=42)\n"
      ]
    },
    {
      "cell_type": "code",
      "execution_count": null,
      "id": "e9fb904c",
      "metadata": {
        "id": "e9fb904c",
        "outputId": "faa412fb-27e4-408d-8842-3a6055697f01"
      },
      "outputs": [
        {
          "data": {
            "text/plain": [
              "RandomForestClassifier(random_state=42)"
            ]
          },
          "execution_count": 192,
          "metadata": {},
          "output_type": "execute_result"
        }
      ],
      "source": [
        "rf_classifier.fit(X_train, y_train)\n"
      ]
    },
    {
      "cell_type": "code",
      "execution_count": null,
      "id": "2e0fc09b",
      "metadata": {
        "id": "2e0fc09b"
      },
      "outputs": [],
      "source": [
        "y_pred = rf_classifier.predict(X_test)\n"
      ]
    },
    {
      "cell_type": "code",
      "execution_count": null,
      "id": "59064c86",
      "metadata": {
        "id": "59064c86",
        "outputId": "115a9679-d093-40e3-bb9f-8241ed7d876f"
      },
      "outputs": [
        {
          "name": "stdout",
          "output_type": "stream",
          "text": [
            "Accuracy: 0.9168495488905145\n"
          ]
        }
      ],
      "source": [
        "accuracy = accuracy_score(y_test, y_pred)\n",
        "print('Accuracy:', accuracy)"
      ]
    },
    {
      "cell_type": "code",
      "execution_count": null,
      "id": "afa34d50",
      "metadata": {
        "id": "afa34d50",
        "outputId": "202d8632-50e7-4788-8d34-cdd61ac8eac9"
      },
      "outputs": [
        {
          "name": "stdout",
          "output_type": "stream",
          "text": [
            "              precision    recall  f1-score   support\n",
            "\n",
            "           0       0.84      0.84      0.84      5478\n",
            "           1       0.93      0.99      0.96     33454\n",
            "           2       0.36      0.02      0.04      2078\n",
            "\n",
            "    accuracy                           0.92     41010\n",
            "   macro avg       0.71      0.61      0.61     41010\n",
            "weighted avg       0.89      0.92      0.89     41010\n",
            "\n"
          ]
        }
      ],
      "source": [
        "classification_rep = classification_report(y_test, y_pred)\n",
        "print(classification_rep)"
      ]
    },
    {
      "cell_type": "code",
      "execution_count": null,
      "id": "fdd11315",
      "metadata": {
        "id": "fdd11315"
      },
      "outputs": [],
      "source": [
        "cm = confusion_matrix(y_test, y_pred)\n"
      ]
    },
    {
      "cell_type": "code",
      "execution_count": null,
      "id": "786370f9",
      "metadata": {
        "id": "786370f9",
        "outputId": "b074e940-66fe-48e7-fc74-7bbcab2c9bf1"
      },
      "outputs": [
        {
          "data": {
            "image/png": "[encoded data removed]",
            "text/plain": [
              "<Figure size 600x400 with 2 Axes>"
            ]
          },
          "metadata": {},
          "output_type": "display_data"
        }
      ],
      "source": [
        "plt.figure(figsize=(6, 4))\n",
        "sns.heatmap(cm, annot=True, cmap='Blues', fmt='d')\n",
        "plt.title('Confusion Matrix')\n",
        "plt.xlabel('Predicted Labels')\n",
        "plt.ylabel('True Labels')\n",
        "plt.show()"
      ]
    },
    {
      "cell_type": "code",
      "execution_count": null,
      "id": "016efc28",
      "metadata": {
        "id": "016efc28"
      },
      "outputs": [],
      "source": [
        "$$ RF text feature $$"
      ]
    },
    {
      "cell_type": "code",
      "execution_count": null,
      "id": "83fca1d6",
      "metadata": {
        "id": "83fca1d6"
      },
      "outputs": [],
      "source": [
        "text_column = 'Review'\n",
        "target_column = 'Sentiment_Numeric'"
      ]
    },
    {
      "cell_type": "code",
      "execution_count": null,
      "id": "55cef69c",
      "metadata": {
        "id": "55cef69c"
      },
      "outputs": [],
      "source": [
        "X_train, X_test, y_train, y_test = train_test_split(data[text_column], data[target_column], test_size=0.2, random_state=42)\n"
      ]
    },
    {
      "cell_type": "code",
      "execution_count": null,
      "id": "4194ea4a",
      "metadata": {
        "id": "4194ea4a"
      },
      "outputs": [],
      "source": [
        "vectorizer = TfidfVectorizer()\n"
      ]
    },
    {
      "cell_type": "code",
      "execution_count": null,
      "id": "46d22188",
      "metadata": {
        "id": "46d22188"
      },
      "outputs": [],
      "source": [
        "X_train_tfidf = vectorizer.fit_transform(X_train)\n",
        "X_test_tfidf = vectorizer.transform(X_test)\n"
      ]
    },
    {
      "cell_type": "code",
      "execution_count": null,
      "id": "17af60c1",
      "metadata": {
        "id": "17af60c1"
      },
      "outputs": [],
      "source": [
        "rf_classifier = RandomForestClassifier(n_estimators=100, random_state=42)\n"
      ]
    },
    {
      "cell_type": "code",
      "execution_count": null,
      "id": "2e6d9753",
      "metadata": {
        "id": "2e6d9753",
        "outputId": "976bcccd-ce67-403e-b215-88b112317df9"
      },
      "outputs": [
        {
          "data": {
            "text/plain": [
              "RandomForestClassifier(random_state=42)"
            ]
          },
          "execution_count": 203,
          "metadata": {},
          "output_type": "execute_result"
        }
      ],
      "source": [
        "rf_classifier.fit(X_train_tfidf, y_train)\n"
      ]
    },
    {
      "cell_type": "code",
      "execution_count": null,
      "id": "9ecbc944",
      "metadata": {
        "id": "9ecbc944"
      },
      "outputs": [],
      "source": [
        "y_pred = rf_classifier.predict(X_test_tfidf)\n"
      ]
    },
    {
      "cell_type": "code",
      "execution_count": null,
      "id": "e669f156",
      "metadata": {
        "id": "e669f156",
        "outputId": "2bfe3b8d-2b5b-42a4-daf4-7d46f1657143"
      },
      "outputs": [
        {
          "name": "stdout",
          "output_type": "stream",
          "text": [
            "Accuracy: 0.8991709339185564\n"
          ]
        }
      ],
      "source": [
        "accuracy = accuracy_score(y_test, y_pred)\n",
        "print('Accuracy:', accuracy)"
      ]
    },
    {
      "cell_type": "code",
      "execution_count": null,
      "id": "64c709ef",
      "metadata": {
        "id": "64c709ef",
        "outputId": "f19f75c0-9b3f-49a0-d0b4-ae216f14ca0f"
      },
      "outputs": [
        {
          "name": "stdout",
          "output_type": "stream",
          "text": [
            "              precision    recall  f1-score   support\n",
            "\n",
            "           0       0.85      0.69      0.76      5478\n",
            "           1       0.91      0.99      0.95     33454\n",
            "           2       0.00      0.00      0.00      2078\n",
            "\n",
            "    accuracy                           0.90     41010\n",
            "   macro avg       0.58      0.56      0.57     41010\n",
            "weighted avg       0.85      0.90      0.87     41010\n",
            "\n"
          ]
        }
      ],
      "source": [
        "classification_rep = classification_report(y_test, y_pred)\n",
        "print(classification_rep)\n"
      ]
    },
    {
      "cell_type": "code",
      "execution_count": null,
      "id": "878b6236",
      "metadata": {
        "id": "878b6236"
      },
      "outputs": [],
      "source": [
        "cm = confusion_matrix(y_test, y_pred)\n"
      ]
    },
    {
      "cell_type": "code",
      "execution_count": null,
      "id": "5cc014b1",
      "metadata": {
        "id": "5cc014b1",
        "outputId": "e2b2f0d4-8a07-44ef-d95e-779ee866fd74"
      },
      "outputs": [
        {
          "data": {
            "image/png": "[encoded data removed]",
            "text/plain": [
              "<Figure size 600x400 with 2 Axes>"
            ]
          },
          "metadata": {},
          "output_type": "display_data"
        }
      ],
      "source": [
        "plt.figure(figsize=(6, 4))\n",
        "sns.heatmap(cm, annot=True, cmap='Blues', fmt='d')\n",
        "plt.title('Confusion Matrix')\n",
        "plt.xlabel('Predicted Labels')\n",
        "plt.ylabel('True Labels')\n",
        "plt.show()"
      ]
    },
    {
      "cell_type": "code",
      "execution_count": null,
      "id": "3f0391e5",
      "metadata": {
        "id": "3f0391e5"
      },
      "outputs": [],
      "source": []
    },
    {
      "cell_type": "code",
      "execution_count": null,
      "id": "c39c75bb",
      "metadata": {
        "id": "c39c75bb"
      },
      "outputs": [],
      "source": [
        "correlation_matrix = X.corr()\n"
      ]
    },
    {
      "cell_type": "code",
      "execution_count": null,
      "id": "2c019083",
      "metadata": {
        "id": "2c019083"
      },
      "outputs": [],
      "source": [
        "plt.figure(figsize=(6, 4))\n",
        "sns.heatmap(correlation_matrix, cmap='coolwarm', annot=True)\n",
        "plt.title('Correlation Matrix for features')\n",
        "plt.show()"
      ]
    },
    {
      "cell_type": "code",
      "execution_count": null,
      "id": "e9a7fcea",
      "metadata": {
        "id": "e9a7fcea"
      },
      "outputs": [],
      "source": []
    }
  ],
  "metadata": {
    "kernelspec": {
      "display_name": "Python 3 (ipykernel)",
      "language": "python",
      "name": "python3"
    },
    "language_info": {
      "codemirror_mode": {
        "name": "ipython",
        "version": 3
      },
      "file_extension": ".py",
      "mimetype": "text/x-python",
      "name": "python",
      "nbconvert_exporter": "python",
      "pygments_lexer": "ipython3",
      "version": "3.7.16"
    },
    "colab": {
      "provenance": []
    }
  },
  "nbformat": 4,
  "nbformat_minor": 5
}